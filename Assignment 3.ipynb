{
 "cells": [
  {
   "cell_type": "code",
   "execution_count": 2,
   "id": "0f2c2547",
   "metadata": {},
   "outputs": [],
   "source": [
    "#Explain the significance of Python keywords and provide examples of five keywords"
   ]
  },
  {
   "cell_type": "code",
   "execution_count": 4,
   "id": "1eb3291f",
   "metadata": {},
   "outputs": [
    {
     "data": {
      "text/plain": [
       "'Python Keywords : Some special words have been assigned to perform a specific task and their usage than other.\\nList of 5 keywords are:'"
      ]
     },
     "execution_count": 4,
     "metadata": {},
     "output_type": "execute_result"
    }
   ],
   "source": [
    "'''Python Keywords : Some special words have been assigned to perform a specific task and their usage than other.\n",
    "List of 5 keywords are:'''\n"
   ]
  },
  {
   "cell_type": "code",
   "execution_count": 5,
   "id": "523ab82d",
   "metadata": {},
   "outputs": [
    {
     "name": "stdout",
     "output_type": "stream",
     "text": [
      "1\n",
      "2\n",
      "3\n",
      "4\n",
      "5\n"
     ]
    }
   ],
   "source": [
    "#1. For\n",
    "for i in range(5):\n",
    "    i+=1\n",
    "    print(i)"
   ]
  },
  {
   "cell_type": "code",
   "execution_count": 6,
   "id": "8553aa2e",
   "metadata": {},
   "outputs": [],
   "source": [
    "#2. pass\n",
    "for i in range(5):\n",
    "    pass"
   ]
  },
  {
   "cell_type": "code",
   "execution_count": 11,
   "id": "1e7d0521",
   "metadata": {},
   "outputs": [
    {
     "name": "stdout",
     "output_type": "stream",
     "text": [
      "1\n",
      "2\n"
     ]
    }
   ],
   "source": [
    "#3. break\n",
    "a = [1,2,34,56,\"Complaint\"]\n",
    "for i in a:\n",
    "    if i == 34:\n",
    "        break\n",
    "    print(i)\n",
    "    "
   ]
  },
  {
   "cell_type": "code",
   "execution_count": 14,
   "id": "fe5c6b9c",
   "metadata": {},
   "outputs": [
    {
     "data": {
      "text/plain": [
       "11"
      ]
     },
     "execution_count": 14,
     "metadata": {},
     "output_type": "execute_result"
    }
   ],
   "source": [
    "#4. return\n",
    "def Num(x):\n",
    "    return x + 1\n",
    "Num(10)"
   ]
  },
  {
   "cell_type": "code",
   "execution_count": 20,
   "id": "77c36873",
   "metadata": {},
   "outputs": [
    {
     "data": {
      "text/plain": [
       "False"
      ]
     },
     "execution_count": 20,
     "metadata": {},
     "output_type": "execute_result"
    }
   ],
   "source": [
    "#5. In\n",
    "FirstName, Lastname = \"Pranay\", \"Kumar\"\n",
    "\"p\" in FirstName"
   ]
  },
  {
   "cell_type": "code",
   "execution_count": 21,
   "id": "f66ab6fd",
   "metadata": {},
   "outputs": [],
   "source": [
    "#Describe the rules for defining identifiers in Python and provide an example"
   ]
  },
  {
   "cell_type": "code",
   "execution_count": 23,
   "id": "3135019f",
   "metadata": {},
   "outputs": [
    {
     "ename": "SyntaxError",
     "evalue": "invalid decimal literal (1845118856.py, line 6)",
     "output_type": "error",
     "traceback": [
      "\u001b[1;36m  Cell \u001b[1;32mIn[23], line 6\u001b[1;36m\u001b[0m\n\u001b[1;33m    1A = 100\u001b[0m\n\u001b[1;37m    ^\u001b[0m\n\u001b[1;31mSyntaxError\u001b[0m\u001b[1;31m:\u001b[0m invalid decimal literal\n"
     ]
    }
   ],
   "source": [
    "#Ans: Identifier is used to describe the identity of term, or variable or others. This can have letters, digit, underscore but can not start from a digits.\n",
    "A = 34\n",
    "Article = \"The Faith\"\n",
    "Complaint_Level = [\"CL1\",\"CL2\"]\n",
    "A1 = 100\n",
    "1A = 100"
   ]
  },
  {
   "cell_type": "code",
   "execution_count": 24,
   "id": "c8ba4807",
   "metadata": {},
   "outputs": [],
   "source": [
    "#What are comments in Python, and why are they useful? Provide an example."
   ]
  },
  {
   "cell_type": "code",
   "execution_count": 26,
   "id": "d4ea5328",
   "metadata": {},
   "outputs": [
    {
     "name": "stdout",
     "output_type": "stream",
     "text": [
      "ad\n",
      "#This is comment\n"
     ]
    }
   ],
   "source": [
    " '''Comments are the most usefull feature which is used to comment out the word or sentence, and cant get run and do not show any error.\n",
    "This is used to define the purpose of code to get a clear understanding. \"#\" is used for single line comment or a word, while 3x(') is used for multiline comment.\n",
    "like:'''\n",
    "A = \"ad\" #This is comment\n",
    "print(A)\n"
   ]
  },
  {
   "cell_type": "code",
   "execution_count": 27,
   "id": "51e7b829",
   "metadata": {},
   "outputs": [],
   "source": [
    "#Why is proper indentation important in Python?"
   ]
  },
  {
   "cell_type": "code",
   "execution_count": 28,
   "id": "3740f264",
   "metadata": {},
   "outputs": [
    {
     "data": {
      "text/plain": [
       "'Proper identation is important because python run in a sequence and that get read by identation while writing a code in multiline.\\nIf proper identation is not done in a multiline code then it will throw a error.'"
      ]
     },
     "execution_count": 28,
     "metadata": {},
     "output_type": "execute_result"
    }
   ],
   "source": [
    "'''Proper identation is important because python run in a sequence and that get read by identation while writing a code in multiline.\n",
    "If proper identation is not done in a multiline code then it will throw a error.'''"
   ]
  },
  {
   "cell_type": "code",
   "execution_count": 31,
   "id": "b1681cf7",
   "metadata": {},
   "outputs": [
    {
     "ename": "IndentationError",
     "evalue": "expected an indented block after function definition on line 2 (1343752320.py, line 3)",
     "output_type": "error",
     "traceback": [
      "\u001b[1;36m  Cell \u001b[1;32mIn[31], line 3\u001b[1;36m\u001b[0m\n\u001b[1;33m    return x + 1\u001b[0m\n\u001b[1;37m    ^\u001b[0m\n\u001b[1;31mIndentationError\u001b[0m\u001b[1;31m:\u001b[0m expected an indented block after function definition on line 2\n"
     ]
    }
   ],
   "source": [
    "#What happens if indentation is incorrect in Python?\n",
    "def Num1(x):\n",
    "return x + 1\n",
    "Num(10)"
   ]
  },
  {
   "cell_type": "code",
   "execution_count": 32,
   "id": "ba6324ca",
   "metadata": {},
   "outputs": [],
   "source": [
    "#Differentiate between expression and statement in Python with examples"
   ]
  },
  {
   "cell_type": "code",
   "execution_count": 36,
   "id": "f7948308",
   "metadata": {},
   "outputs": [
    {
     "name": "stdout",
     "output_type": "stream",
     "text": [
      "5\n"
     ]
    }
   ],
   "source": [
    "'''Expression is used to perform a operation in python based on desired need and output to get generated.\\ There are different expreesions:\n",
    "    1.Arthmetic, 2. Conditional 3. Logical. Expression can be used in Statement.'''\n",
    "A = (2 + 3) # \"+\" is used to perform the arthmetic operation and the output will get store in A.\n",
    "print(A)\n"
   ]
  },
  {
   "cell_type": "code",
   "execution_count": 37,
   "id": "76f03339",
   "metadata": {},
   "outputs": [
    {
     "data": {
      "text/plain": [
       "5"
      ]
     },
     "execution_count": 37,
     "metadata": {},
     "output_type": "execute_result"
    }
   ],
   "source": [
    "'''Statement is line of code written in a form to make it actionable. Like assigning a value to a variable. Statement cant be used in expression.'''\n",
    "x = 5\n",
    "x"
   ]
  }
 ],
 "metadata": {
  "kernelspec": {
   "display_name": "Python 3 (ipykernel)",
   "language": "python",
   "name": "python3"
  },
  "language_info": {
   "codemirror_mode": {
    "name": "ipython",
    "version": 3
   },
   "file_extension": ".py",
   "mimetype": "text/x-python",
   "name": "python",
   "nbconvert_exporter": "python",
   "pygments_lexer": "ipython3",
   "version": "3.11.5"
  }
 },
 "nbformat": 4,
 "nbformat_minor": 5
}
